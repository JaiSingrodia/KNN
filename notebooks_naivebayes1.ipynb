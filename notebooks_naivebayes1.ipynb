{
  "metadata": {
    "kernelspec": {
      "display_name": "Pyolite",
      "language": "python",
      "name": "python"
    },
    "language_info": {
      "codemirror_mode": {
        "name": "python",
        "version": 3
      },
      "file_extension": ".py",
      "mimetype": "text/x-python",
      "name": "python",
      "nbconvert_exporter": "python",
      "pygments_lexer": "ipython3",
      "version": "3.8"
    }
  },
  "nbformat_minor": 5,
  "nbformat": 4,
  "cells": [
    {
      "cell_type": "code",
      "source": "import numpy as np\nimport pandas as pd\nimport matplotlib.pyplot as plt\n",
      "metadata": {
        "trusted": true
      },
      "execution_count": 10,
      "outputs": [],
      "id": "0984c3d8-6760-41aa-be39-9d3ced8d0ce5"
    },
    {
      "cell_type": "code",
      "source": "#DATASET\ndata = pd.read_csv",
      "metadata": {},
      "execution_count": null,
      "outputs": [],
      "id": "2cd19cd2-a1e5-4292-a4f6-1ca81972c590"
    },
    {
      "cell_type": "code",
      "source": "",
      "metadata": {},
      "execution_count": null,
      "outputs": [],
      "id": "1c69e84a-408d-4c6f-8cdb-8492a834d7d9"
    }
  ]
}